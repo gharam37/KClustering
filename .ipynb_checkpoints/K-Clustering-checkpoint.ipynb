{
 "cells": [
  {
   "cell_type": "code",
   "execution_count": 57,
   "metadata": {
    "scrolled": false
   },
   "outputs": [
    {
     "name": "stdout",
     "output_type": "stream",
     "text": [
      "Starting\n"
     ]
    },
    {
     "ename": "KeyboardInterrupt",
     "evalue": "",
     "output_type": "error",
     "traceback": [
      "\u001b[1;31m---------------------------------------------------------------------------\u001b[0m",
      "\u001b[1;31mKeyboardInterrupt\u001b[0m                         Traceback (most recent call last)",
      "\u001b[1;32m<ipython-input-57-f4e9593fb6ed>\u001b[0m in \u001b[0;36m<module>\u001b[1;34m\u001b[0m\n\u001b[0;32m    127\u001b[0m \u001b[1;33m\u001b[0m\u001b[0m\n\u001b[0;32m    128\u001b[0m \u001b[1;32mif\u001b[0m \u001b[0m__name__\u001b[0m \u001b[1;33m==\u001b[0m \u001b[1;34m\"__main__\"\u001b[0m\u001b[1;33m:\u001b[0m\u001b[1;33m\u001b[0m\u001b[1;33m\u001b[0m\u001b[0m\n\u001b[1;32m--> 129\u001b[1;33m     \u001b[0mBestCluster\u001b[0m \u001b[1;33m=\u001b[0m \u001b[0mEvaluateClusters\u001b[0m\u001b[1;33m(\u001b[0m\u001b[1;33m)\u001b[0m\u001b[1;33m;\u001b[0m\u001b[1;33m\u001b[0m\u001b[1;33m\u001b[0m\u001b[0m\n\u001b[0m\u001b[0;32m    130\u001b[0m \u001b[1;33m\u001b[0m\u001b[0m\n\u001b[0;32m    131\u001b[0m \u001b[1;33m\u001b[0m\u001b[0m\n",
      "\u001b[1;32m<ipython-input-57-f4e9593fb6ed>\u001b[0m in \u001b[0;36mEvaluateClusters\u001b[1;34m()\u001b[0m\n\u001b[0;32m    101\u001b[0m \u001b[1;32mdef\u001b[0m \u001b[0mEvaluateClusters\u001b[0m\u001b[1;33m(\u001b[0m\u001b[1;33m)\u001b[0m\u001b[1;33m:\u001b[0m\u001b[1;33m\u001b[0m\u001b[1;33m\u001b[0m\u001b[0m\n\u001b[0;32m    102\u001b[0m     \u001b[0mminDistance\u001b[0m\u001b[1;33m=\u001b[0m\u001b[1;36m0\u001b[0m\u001b[1;33m;\u001b[0m\u001b[1;33m\u001b[0m\u001b[1;33m\u001b[0m\u001b[0m\n\u001b[1;32m--> 103\u001b[1;33m     \u001b[0mCluster\u001b[0m\u001b[1;33m=\u001b[0m \u001b[0mKCluster\u001b[0m\u001b[1;33m(\u001b[0m\u001b[1;33m)\u001b[0m\u001b[1;33m;\u001b[0m\u001b[1;33m\u001b[0m\u001b[1;33m\u001b[0m\u001b[0m\n\u001b[0m\u001b[0;32m    104\u001b[0m     \u001b[0mMembership\u001b[0m\u001b[1;33m=\u001b[0m\u001b[0mCluster\u001b[0m\u001b[1;33m[\u001b[0m\u001b[1;36m0\u001b[0m\u001b[1;33m]\u001b[0m\u001b[1;33m\u001b[0m\u001b[1;33m\u001b[0m\u001b[0m\n\u001b[0;32m    105\u001b[0m     \u001b[0mCenters\u001b[0m\u001b[1;33m=\u001b[0m\u001b[0mCluster\u001b[0m\u001b[1;33m[\u001b[0m\u001b[1;36m1\u001b[0m\u001b[1;33m]\u001b[0m\u001b[1;33m\u001b[0m\u001b[1;33m\u001b[0m\u001b[0m\n",
      "\u001b[1;32m<ipython-input-57-f4e9593fb6ed>\u001b[0m in \u001b[0;36mKCluster\u001b[1;34m()\u001b[0m\n\u001b[0;32m     81\u001b[0m     \u001b[0mNewMemberShip\u001b[0m\u001b[1;33m=\u001b[0m\u001b[1;33m[\u001b[0m\u001b[1;33m]\u001b[0m\u001b[1;33m\u001b[0m\u001b[1;33m\u001b[0m\u001b[0m\n\u001b[0;32m     82\u001b[0m     \u001b[1;32mwhile\u001b[0m \u001b[1;32mTrue\u001b[0m\u001b[1;33m:\u001b[0m\u001b[1;33m\u001b[0m\u001b[1;33m\u001b[0m\u001b[0m\n\u001b[1;32m---> 83\u001b[1;33m         \u001b[0mNewCenters\u001b[0m\u001b[1;33m=\u001b[0m\u001b[0mUpdateCenters\u001b[0m\u001b[1;33m(\u001b[0m\u001b[0mInitialMembers\u001b[0m\u001b[1;33m)\u001b[0m\u001b[1;33m\u001b[0m\u001b[1;33m\u001b[0m\u001b[0m\n\u001b[0m\u001b[0;32m     84\u001b[0m         \u001b[0mNewMemberShip\u001b[0m\u001b[1;33m=\u001b[0m\u001b[0mGetMemberShip\u001b[0m\u001b[1;33m(\u001b[0m\u001b[0mNewCenters\u001b[0m\u001b[1;33m)\u001b[0m\u001b[1;33m\u001b[0m\u001b[1;33m\u001b[0m\u001b[0m\n\u001b[0;32m     85\u001b[0m         \u001b[1;32mif\u001b[0m \u001b[0mnp\u001b[0m\u001b[1;33m.\u001b[0m\u001b[0marray_equal\u001b[0m\u001b[1;33m(\u001b[0m\u001b[0mNewMemberShip\u001b[0m\u001b[1;33m,\u001b[0m\u001b[0mInitialMembers\u001b[0m\u001b[1;33m)\u001b[0m\u001b[1;33m:\u001b[0m\u001b[1;33m\u001b[0m\u001b[1;33m\u001b[0m\u001b[0m\n",
      "\u001b[1;32m<ipython-input-57-f4e9593fb6ed>\u001b[0m in \u001b[0;36mUpdateCenters\u001b[1;34m(MembershipVector)\u001b[0m\n\u001b[0;32m     66\u001b[0m                 \u001b[0minitialized\u001b[0m\u001b[1;33m=\u001b[0m\u001b[1;32mTrue\u001b[0m\u001b[1;33m\u001b[0m\u001b[1;33m\u001b[0m\u001b[0m\n\u001b[0;32m     67\u001b[0m             \u001b[1;32melif\u001b[0m \u001b[0mMembershipVector\u001b[0m\u001b[1;33m[\u001b[0m\u001b[0mi\u001b[0m\u001b[1;33m]\u001b[0m\u001b[1;33m==\u001b[0m\u001b[0mk\u001b[0m \u001b[1;32mand\u001b[0m \u001b[0minitialized\u001b[0m\u001b[1;33m:\u001b[0m\u001b[1;33m\u001b[0m\u001b[1;33m\u001b[0m\u001b[0m\n\u001b[1;32m---> 68\u001b[1;33m                 \u001b[0mKCluster\u001b[0m\u001b[1;33m=\u001b[0m \u001b[0mnp\u001b[0m\u001b[1;33m.\u001b[0m\u001b[0mcolumn_stack\u001b[0m\u001b[1;33m(\u001b[0m\u001b[1;33m(\u001b[0m\u001b[0mKCluster\u001b[0m\u001b[1;33m,\u001b[0m\u001b[0mNewImagesArray\u001b[0m\u001b[1;33m[\u001b[0m\u001b[0mi\u001b[0m\u001b[1;33m]\u001b[0m\u001b[1;33m)\u001b[0m\u001b[1;33m)\u001b[0m\u001b[1;33m\u001b[0m\u001b[1;33m\u001b[0m\u001b[0m\n\u001b[0m\u001b[0;32m     69\u001b[0m         \u001b[1;32mif\u001b[0m \u001b[0mKCluster\u001b[0m \u001b[1;32mis\u001b[0m \u001b[1;32mNone\u001b[0m\u001b[1;33m:\u001b[0m\u001b[1;33m\u001b[0m\u001b[1;33m\u001b[0m\u001b[0m\n\u001b[0;32m     70\u001b[0m             \u001b[0mCenters\u001b[0m\u001b[1;33m[\u001b[0m\u001b[0mk\u001b[0m\u001b[1;33m]\u001b[0m\u001b[1;33m=\u001b[0m\u001b[1;32mNone\u001b[0m\u001b[1;33m\u001b[0m\u001b[1;33m\u001b[0m\u001b[0m\n",
      "\u001b[1;32m~\\AppData\\Local\\Continuum\\anaconda3\\lib\\site-packages\\numpy\\lib\\shape_base.py\u001b[0m in \u001b[0;36mcolumn_stack\u001b[1;34m(tup)\u001b[0m\n\u001b[0;32m    638\u001b[0m             \u001b[0marr\u001b[0m \u001b[1;33m=\u001b[0m \u001b[0marray\u001b[0m\u001b[1;33m(\u001b[0m\u001b[0marr\u001b[0m\u001b[1;33m,\u001b[0m \u001b[0mcopy\u001b[0m\u001b[1;33m=\u001b[0m\u001b[1;32mFalse\u001b[0m\u001b[1;33m,\u001b[0m \u001b[0msubok\u001b[0m\u001b[1;33m=\u001b[0m\u001b[1;32mTrue\u001b[0m\u001b[1;33m,\u001b[0m \u001b[0mndmin\u001b[0m\u001b[1;33m=\u001b[0m\u001b[1;36m2\u001b[0m\u001b[1;33m)\u001b[0m\u001b[1;33m.\u001b[0m\u001b[0mT\u001b[0m\u001b[1;33m\u001b[0m\u001b[1;33m\u001b[0m\u001b[0m\n\u001b[0;32m    639\u001b[0m         \u001b[0marrays\u001b[0m\u001b[1;33m.\u001b[0m\u001b[0mappend\u001b[0m\u001b[1;33m(\u001b[0m\u001b[0marr\u001b[0m\u001b[1;33m)\u001b[0m\u001b[1;33m\u001b[0m\u001b[1;33m\u001b[0m\u001b[0m\n\u001b[1;32m--> 640\u001b[1;33m     \u001b[1;32mreturn\u001b[0m \u001b[0m_nx\u001b[0m\u001b[1;33m.\u001b[0m\u001b[0mconcatenate\u001b[0m\u001b[1;33m(\u001b[0m\u001b[0marrays\u001b[0m\u001b[1;33m,\u001b[0m \u001b[1;36m1\u001b[0m\u001b[1;33m)\u001b[0m\u001b[1;33m\u001b[0m\u001b[1;33m\u001b[0m\u001b[0m\n\u001b[0m\u001b[0;32m    641\u001b[0m \u001b[1;33m\u001b[0m\u001b[0m\n\u001b[0;32m    642\u001b[0m \u001b[1;33m\u001b[0m\u001b[0m\n",
      "\u001b[1;31mKeyboardInterrupt\u001b[0m: "
     ]
    }
   ],
   "source": [
    "import numpy as np\n",
    "import matplotlib.pyplot as plt\n",
    "ImagesArray=np.ones([2400, 784])\n",
    "Centers=np.ones([10, 784])\n",
    "np.set_printoptions(threshold=700000)\n",
    "\n",
    "\n",
    "\n",
    "\n",
    "\n",
    "\n",
    "for i in range (0,2400):\n",
    "    Image=plt.imread('images/'+str(i+1)+'.jpg')\n",
    "    Image =Image.flatten()\n",
    "    super_threshold_indices = Image < 140\n",
    "    Image[super_threshold_indices] = 0\n",
    "    super_threshold_indices = Image >= 140\n",
    "    Image[super_threshold_indices] = 1\n",
    "    ImagesArray[i]=Image\n",
    "def InitializeCenters():\n",
    "    M1i=np.random.choice(np.arange(len(ImagesArray)))\n",
    "    Centers[0]=ImagesArray[M1i];\n",
    "    NewImagesArray= np.copy(ImagesArray)\n",
    "    CurrentCenter=Centers[0]\n",
    "    MaximumDistance=0\n",
    "    MaximumDistanceLocation=0;\n",
    "    for i in range(1,10):\n",
    "        for j in range(0,len(NewImagesArray)):\n",
    "            if(np.linalg.norm(NewImagesArray[j]-CurrentCenter)>MaximumDistance):\n",
    "                MaximumDistance=np.linalg.norm(NewImagesArray[j]-CurrentCenter);\n",
    "                MaximumDistanceLocation=j;\n",
    "                Centers[i]=NewImagesArray[j];\n",
    "        NewImagesArray = np.delete(NewImagesArray, MaximumDistanceLocation, axis=0)\n",
    "        #print(len(NewImagesArray))\n",
    "        CurrentCenter=Centers[i]\n",
    "        MaximumDistance=0\n",
    "        MaximumDistanceLocation=0\n",
    "    return Centers;\n",
    "def GetMemberShip(Centers):\n",
    "    #print(\"Getting Membership Vector\")\n",
    "    Membership=np.ones([2400])    \n",
    "    for i in range (0,len(ImagesArray)):\n",
    "        MinimumDistance=np.linalg.norm(ImagesArray[i]-Centers[0])\n",
    "        Class=0\n",
    "        for j in range(1,len(Centers)):\n",
    "            distance=np.linalg.norm(ImagesArray[i]-Centers[j])\n",
    "            if(distance<MinimumDistance):\n",
    "                MinimumDistance=distance\n",
    "                Class=j\n",
    "        Membership[i]=Class\n",
    "    return Membership;\n",
    "\n",
    "\n",
    "def UpdateCenters(MembershipVector):\n",
    "    #print(\"Updating Center\")  \n",
    "    NewImagesArray= np.copy(ImagesArray)\n",
    "    Centers=np.ones([10, 784])\n",
    "    KCluster=[]\n",
    "    for k in range (0,10):\n",
    "        initialized=False;\n",
    "        KCluster=None\n",
    "        for i in range (0,len(MembershipVector)):\n",
    "            if MembershipVector[i]==k and not(initialized):\n",
    "                KCluster= NewImagesArray[i]\n",
    "                #print(KCluster)\n",
    "                initialized=True\n",
    "            elif MembershipVector[i]==k and initialized:\n",
    "                KCluster= np.column_stack((KCluster,NewImagesArray[i]))\n",
    "        if KCluster is None:\n",
    "            Centers[k]=None\n",
    "            \n",
    "        else:\n",
    "            Centers[k]=np.mean(KCluster.transpose(), axis=0)\n",
    "    return Centers\n",
    "\n",
    "def KCluster():\n",
    "    print(\"Starting\")\n",
    "    Centers=InitializeCenters();\n",
    "    InitialMembers=GetMemberShip(Centers);\n",
    "    NewCenters=[]\n",
    "    NewMemberShip=[]\n",
    "    while True:\n",
    "        NewCenters=UpdateCenters(InitialMembers)\n",
    "        NewMemberShip=GetMemberShip(NewCenters)\n",
    "        if np.array_equal(NewMemberShip,InitialMembers):\n",
    "            return [NewMemberShip,NewCenters]\n",
    "        else:\n",
    "            InitialMembers=NewMemberShip\n",
    "\n",
    "\n",
    "        \n",
    "    \n",
    "def EvaluateClusters():\n",
    "    minDistance=0;\n",
    "    Cluster= KCluster();\n",
    "    Membership=Cluster[0]\n",
    "    Centers=Cluster[1]\n",
    "    minDistance =WithinClusterDistances(Membership,Centers)\n",
    "    minCluster=Cluster;\n",
    "    print(minDistance)\n",
    "    for i in range (0,5):\n",
    "        Cluster= KCluster();\n",
    "        Membership=Cluster[0]\n",
    "        Centers=Cluster[1]\n",
    "        Distance=WithinClusterDistances(Membership,Centers)\n",
    "        if(Distance<minDistance):\n",
    "            minDistance=Distance;\n",
    "            minCluster=Cluster\n",
    "        print(WithinClusterDistances(Membership,Centers));\n",
    "    return minCluster\n",
    "    \n",
    "def WithinClusterDistances(MembershipList,Centers):\n",
    "    distance=0;\n",
    "    NewImagesArray= np.copy(ImagesArray)\n",
    "    for i in range (0,len(MembershipList)):\n",
    "        distance+=np.linalg.norm(NewImagesArray[i]-Centers[int(MembershipList[i])])\n",
    "    return distance;\n",
    "        \n",
    "\n",
    "if __name__ == \"__main__\":\n",
    "    BestCluster = EvaluateClusters();\n",
    "    \n",
    "    \n",
    "    \n",
    "\n",
    "\n",
    "    "
   ]
  },
  {
   "cell_type": "code",
   "execution_count": 59,
   "metadata": {
    "scrolled": true
   },
   "outputs": [
    {
     "name": "stdout",
     "output_type": "stream",
     "text": [
      "161\n",
      "236\n",
      "141\n",
      "96\n",
      "121\n",
      "72\n",
      "192\n",
      "159\n",
      "136\n",
      "124\n",
      "0.5991666666666666\n"
     ]
    }
   ],
   "source": []
  },
  {
   "cell_type": "code",
   "execution_count": 96,
   "metadata": {
    "scrolled": true
   },
   "outputs": [
    {
     "data": {
      "image/png": "[encoded data removed]",
      "text/plain": [
       "<Figure size 720x1080 with 1 Axes>"
      ]
     },
     "metadata": {
      "needs_background": "light"
     },
     "output_type": "display_data"
    },
    {
     "name": "stdout",
     "output_type": "stream",
     "text": [
      "The Accuracy is \n",
      "59.916666666666664\n"
     ]
    }
   ],
   "source": [
    "def CountCluster(Membership):\n",
    "    Clusters =np.split(Membership,10)\n",
    "    count=0\n",
    "    x=[-1,0,1,2,3,4,5,6,7,8,9]\n",
    "    y=[0]\n",
    "    for i in range(0,10):\n",
    "        (values,counts) = np.unique(Clusters[i],return_counts=True)\n",
    "        ind=np.argmax(counts)\n",
    "        count+=counts[ind]\n",
    "        y.append(counts[ind])\n",
    "    plt.figure(figsize=(10,15))\n",
    "    plt.axis([0, 10, 0, 300])\n",
    "    plt.bar(x, y)\n",
    "    plt.xticks(x)\n",
    "    for i, v in enumerate(y):\n",
    "         if not(x[i]==-1):\n",
    "            plt.text(x[i] - 0.25, v + 0.01, str(v))\n",
    "    plt.savefig('Counts.jpg')\n",
    "    plt.show()\n",
    "    print(\"The Accuracy is \")\n",
    "    print(((count/2400))*100)\n",
    "CountCluster(BestCluster[0])"
   ]
  },
  {
   "cell_type": "code",
   "execution_count": null,
   "metadata": {},
   "outputs": [],
   "source": []
  }
 ],
 "metadata": {
  "kernelspec": {
   "display_name": "Python 3",
   "language": "python",
   "name": "python3"
  },
  "language_info": {
   "codemirror_mode": {
    "name": "ipython",
    "version": 3
   },
   "file_extension": ".py",
   "mimetype": "text/x-python",
   "name": "python",
   "nbconvert_exporter": "python",
   "pygments_lexer": "ipython3",
   "version": "3.7.3"
  }
 },
 "nbformat": 4,
 "nbformat_minor": 2
}
