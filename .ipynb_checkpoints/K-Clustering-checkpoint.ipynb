{
 "cells": [
  {
   "cell_type": "code",
   "execution_count": 163,
   "metadata": {
    "scrolled": true
   },
   "outputs": [
    {
     "name": "stdout",
     "output_type": "stream",
     "text": [
      "Assigning Targets\n",
      "Importing Images\n",
      "Initializing Centers\n",
      "(784,)\n",
      "Getting Membership Vector\n",
      "[6. 6. 8. 8. 9. 5. 6. 7. 8. 6. 8. 9. 8. 7. 9. 5. 6. 3. 9. 8. 6. 9. 9. 0.\n",
      " 8. 1. 0. 3. 9. 7. 4. 3. 3. 6. 6. 8. 0. 9. 6. 6. 3. 3. 5. 8. 6. 9. 9. 7.\n",
      " 2. 3. 6. 9. 7. 4. 8. 6. 8. 1. 2. 1. 2. 6. 8. 0. 8. 4. 1. 6. 6. 6. 6. 8.\n",
      " 2. 2. 2. 8. 2. 6. 3. 9. 2. 6. 2. 6. 6. 1. 2. 2. 6. 4. 6. 0. 2. 2. 2. 1.\n",
      " 2. 0. 6. 1. 7. 2. 9. 9. 6. 1. 9. 9. 2. 3. 2. 5. 0. 3. 0. 8. 8. 2. 8. 6.\n",
      " 9. 4. 8. 8. 3. 6. 9. 6. 9. 8. 9. 8. 2. 4. 6. 1. 6. 6. 6. 6. 2. 3. 8. 6.\n",
      " 9. 9. 4. 8. 3. 5. 0. 6. 9. 0. 9. 9. 9. 6. 3. 9. 3. 6. 9. 3. 9. 5. 3. 9.\n",
      " 9. 0. 6. 3. 9. 7. 9. 9. 9. 3. 8. 6. 0. 6. 4. 7. 6. 9. 6. 8. 8. 9. 8. 6.\n",
      " 6. 7. 0. 8. 0. 6. 9. 9.]\n",
      "Getting Membership Vector\n",
      "Updating Center\n"
     ]
    },
    {
     "ename": "NameError",
     "evalue": "name 'null' is not defined",
     "output_type": "error",
     "traceback": [
      "\u001b[1;31m---------------------------------------------------------------------------\u001b[0m",
      "\u001b[1;31mNameError\u001b[0m                                 Traceback (most recent call last)",
      "\u001b[1;32m<ipython-input-163-0a160241c777>\u001b[0m in \u001b[0;36m<module>\u001b[1;34m\u001b[0m\n\u001b[0;32m     72\u001b[0m     \u001b[0mCenters\u001b[0m\u001b[1;33m=\u001b[0m\u001b[0mInitializeCenters\u001b[0m\u001b[1;33m(\u001b[0m\u001b[1;33m)\u001b[0m\u001b[1;33m;\u001b[0m\u001b[1;33m\u001b[0m\u001b[1;33m\u001b[0m\u001b[0m\n\u001b[0;32m     73\u001b[0m     \u001b[0mprint\u001b[0m\u001b[1;33m(\u001b[0m\u001b[0mGetMemberShip\u001b[0m\u001b[1;33m(\u001b[0m\u001b[0mCenters\u001b[0m\u001b[1;33m)\u001b[0m\u001b[1;33m)\u001b[0m\u001b[1;33m;\u001b[0m\u001b[1;33m\u001b[0m\u001b[1;33m\u001b[0m\u001b[0m\n\u001b[1;32m---> 74\u001b[1;33m     \u001b[0mprint\u001b[0m\u001b[1;33m(\u001b[0m\u001b[0mUpdateCenters\u001b[0m\u001b[1;33m(\u001b[0m\u001b[0mGetMemberShip\u001b[0m\u001b[1;33m(\u001b[0m\u001b[0mCenters\u001b[0m\u001b[1;33m)\u001b[0m\u001b[1;33m)\u001b[0m\u001b[1;33m)\u001b[0m\u001b[1;33m\u001b[0m\u001b[1;33m\u001b[0m\u001b[0m\n\u001b[0m\u001b[0;32m     75\u001b[0m \u001b[1;33m\u001b[0m\u001b[0m\n",
      "\u001b[1;32m<ipython-input-163-0a160241c777>\u001b[0m in \u001b[0;36mUpdateCenters\u001b[1;34m(MembershipVector)\u001b[0m\n\u001b[0;32m     60\u001b[0m     \u001b[1;32mfor\u001b[0m \u001b[0mk\u001b[0m \u001b[1;32min\u001b[0m \u001b[0mrange\u001b[0m \u001b[1;33m(\u001b[0m\u001b[1;36m0\u001b[0m\u001b[1;33m,\u001b[0m\u001b[1;36m10\u001b[0m\u001b[1;33m)\u001b[0m\u001b[1;33m:\u001b[0m\u001b[1;33m\u001b[0m\u001b[1;33m\u001b[0m\u001b[0m\n\u001b[0;32m     61\u001b[0m         \u001b[0minitialized\u001b[0m\u001b[1;33m=\u001b[0m\u001b[1;32mFalse\u001b[0m\u001b[1;33m;\u001b[0m\u001b[1;33m\u001b[0m\u001b[1;33m\u001b[0m\u001b[0m\n\u001b[1;32m---> 62\u001b[1;33m         \u001b[0mKCluster\u001b[0m\u001b[1;33m=\u001b[0m\u001b[0mnull\u001b[0m\u001b[1;33m\u001b[0m\u001b[1;33m\u001b[0m\u001b[0m\n\u001b[0m\u001b[0;32m     63\u001b[0m         \u001b[1;32mfor\u001b[0m \u001b[0mi\u001b[0m \u001b[1;32min\u001b[0m \u001b[0mrange\u001b[0m \u001b[1;33m(\u001b[0m\u001b[1;36m0\u001b[0m\u001b[1;33m,\u001b[0m\u001b[0mlen\u001b[0m\u001b[1;33m(\u001b[0m\u001b[0mMembershipVector\u001b[0m\u001b[1;33m)\u001b[0m\u001b[1;33m)\u001b[0m\u001b[1;33m:\u001b[0m\u001b[1;33m\u001b[0m\u001b[1;33m\u001b[0m\u001b[0m\n\u001b[0;32m     64\u001b[0m             \u001b[1;32mif\u001b[0m \u001b[0mMembershipVector\u001b[0m\u001b[1;33m[\u001b[0m\u001b[0mi\u001b[0m\u001b[1;33m]\u001b[0m\u001b[1;33m==\u001b[0m\u001b[0mk\u001b[0m \u001b[1;32mand\u001b[0m \u001b[1;32mnot\u001b[0m\u001b[1;33m(\u001b[0m\u001b[0minitialized\u001b[0m\u001b[1;33m)\u001b[0m\u001b[1;33m:\u001b[0m\u001b[1;33m\u001b[0m\u001b[1;33m\u001b[0m\u001b[0m\n",
      "\u001b[1;31mNameError\u001b[0m: name 'null' is not defined"
     ]
    }
   ],
   "source": [
    "import numpy as np\n",
    "import matplotlib.pyplot as plt\n",
    "ImagesArray=np.ones([200, 784])\n",
    "Centers=np.ones([10, 784])\n",
    "\n",
    "print(\"Assigning Targets\")\n",
    "\n",
    "\n",
    "\n",
    "\n",
    "\n",
    "print(\"Importing Images\")\n",
    "\n",
    "for i in range (0,200):\n",
    "    Image=plt.imread('Train/'+str(i+1)+'.jpg')\n",
    "    Image =Image.flatten()\n",
    "    super_threshold_indices = Image < 140\n",
    "    Image[super_threshold_indices] = 0\n",
    "    super_threshold_indices = Image >= 140\n",
    "    Image[super_threshold_indices] = 1\n",
    "    ImagesArray[i]=Image\n",
    "def InitializeCenters():\n",
    "    print(\"Initializing Centers\")\n",
    "    M1i=np.random.choice(np.arange(len(ImagesArray)))\n",
    "    print(ImagesArray[M1i].shape);\n",
    "    Centers[0]=ImagesArray[M1i];\n",
    "    NewImagesArray= np.copy(ImagesArray)\n",
    "    CurrentCenter=Centers[0]\n",
    "    MaximumDistance=0\n",
    "    MaximumDistanceLocation=0;\n",
    "    for i in range(1,10):\n",
    "        for j in range(0,len(NewImagesArray)):\n",
    "            if(np.linalg.norm(NewImagesArray[j]-CurrentCenter)>MaximumDistance):\n",
    "                MaximumDistance=np.linalg.norm(NewImagesArray[j]-CurrentCenter);\n",
    "                MaximumDistanceLocation=j;\n",
    "                Centers[i]=NewImagesArray[j];\n",
    "        NewImagesArray = np.delete(NewImagesArray, MaximumDistanceLocation, axis=0)\n",
    "        #print(len(NewImagesArray))\n",
    "        CurrentCenter=Centers[i]\n",
    "        MaximumDistance=0\n",
    "        MaximumDistanceLocation=0\n",
    "    return Centers;\n",
    "def GetMemberShip(Centers):\n",
    "    print(\"Getting Membership Vector\")\n",
    "    Membership=np.ones([200])    \n",
    "    for i in range (0,len(ImagesArray)):\n",
    "        MinimumDistance=np.linalg.norm(ImagesArray[i]-Centers[0])\n",
    "        Class=0\n",
    "        for j in range(1,len(Centers)):\n",
    "            distance=np.linalg.norm(ImagesArray[i]-Centers[j])\n",
    "            if(distance<MinimumDistance):\n",
    "                MinimumDistance=distance\n",
    "                Class=j\n",
    "        Membership[i]=Class\n",
    "    return Membership;\n",
    "\n",
    "\n",
    "def UpdateCenters(MembershipVector):\n",
    "    print(\"Updating Center\")  \n",
    "    for k in range (0,10):\n",
    "        initialized=False;\n",
    "        KCluster=NULL\n",
    "        for i in range (0,len(MembershipVector)):\n",
    "            if MembershipVector[i]==k and not(initialized):\n",
    "                KCluster= ImagesArray[i]\n",
    "                initialized=True\n",
    "            elif MembershipVector[i]==k and initialized:\n",
    "                KCluster= np.column_stack((KCluster,ImagesArray[i]))\n",
    "        print(KCluster.shape)\n",
    "                \n",
    "if __name__ == \"__main__\":\n",
    "    Centers=InitializeCenters();\n",
    "    print(GetMemberShip(Centers));\n",
    "    print(UpdateCenters(GetMemberShip(Centers)))\n",
    "    "
   ]
  },
  {
   "cell_type": "code",
   "execution_count": null,
   "metadata": {},
   "outputs": [],
   "source": []
  },
  {
   "cell_type": "code",
   "execution_count": null,
   "metadata": {},
   "outputs": [],
   "source": []
  }
 ],
 "metadata": {
  "kernelspec": {
   "display_name": "Python 3",
   "language": "python",
   "name": "python3"
  },
  "language_info": {
   "codemirror_mode": {
    "name": "ipython",
    "version": 3
   },
   "file_extension": ".py",
   "mimetype": "text/x-python",
   "name": "python",
   "nbconvert_exporter": "python",
   "pygments_lexer": "ipython3",
   "version": "3.7.3"
  }
 },
 "nbformat": 4,
 "nbformat_minor": 2
}
