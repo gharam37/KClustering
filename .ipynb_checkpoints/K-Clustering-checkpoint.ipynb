{
 "cells": [
  {
   "cell_type": "code",
   "execution_count": 106,
   "metadata": {
    "scrolled": true
   },
   "outputs": [
    {
     "name": "stdout",
     "output_type": "stream",
     "text": [
      "Assigning Targets\n",
      "Importing Images\n",
      "Getting Membership Vector\n",
      "Initializing Centers\n",
      "(784,)\n"
     ]
    }
   ],
   "source": [
    "import numpy as np\n",
    "import matplotlib.pyplot as plt\n",
    "ImagesArray=np.ones([200, 784])\n",
    "Centers=np.ones([10, 784])\n",
    "\n",
    "print(\"Assigning Targets\")\n",
    "\n",
    "\n",
    "\n",
    "\n",
    "\n",
    "print(\"Importing Images\")\n",
    "\n",
    "for i in range (0,200):\n",
    "    Image=plt.imread('Train/'+str(i+1)+'.jpg')\n",
    "    Image =Image.flatten()\n",
    "    super_threshold_indices = Image < 140\n",
    "    Image[super_threshold_indices] = 0\n",
    "    super_threshold_indices = Image >= 140\n",
    "    Image[super_threshold_indices] = 1\n",
    "    ImagesArray[i]=Image\n",
    "def InitializeCenters():\n",
    "    print(\"Initializing Centers\")\n",
    "    M1i=np.random.choice(np.arange(len(ImagesArray)))\n",
    "    print(ImagesArray[M1i].shape);\n",
    "    Centers[0]=ImagesArray[M1i];\n",
    "    NewImagesArray= np.copy(ImagesArray)\n",
    "    CurrentCenter=Centers[0]\n",
    "    MaximumDistance=0\n",
    "    MaximumDistanceLocation=0;\n",
    "    for i in range(1,10):\n",
    "        for j in range(0,len(NewImagesArray)):\n",
    "            if(np.linalg.norm(NewImagesArray[j]-CurrentCenter)>MaximumDistance):\n",
    "                MaximumDistance=np.linalg.norm(NewImagesArray[j]-CurrentCenter);\n",
    "                MaximumDistanceLocation=j;\n",
    "                Centers[i]=NewImagesArray[j];\n",
    "        NewImagesArray = np.delete(NewImagesArray, MaximumDistanceLocation, axis=0)\n",
    "        #print(len(NewImagesArray))\n",
    "        CurrentCenter=Centers[i]\n",
    "        MaximumDistance=0\n",
    "        MaximumDistanceLocation=0\n",
    "    return Centers;\n",
    "def GetMemberShip(Centers):\n",
    "    print(\"Getting Membership Vector\")\n",
    "    Membership=np.ones([200])    \n",
    "    for i in range (0,len(ImagesArray)):\n",
    "        MinimumDistance=np.linalg.norm(ImagesArray[j]-Centers[0])\n",
    "        Class=0\n",
    "        for j in range(1,len(Centers)):\n",
    "            distance=np.linalg.norm(ImagesArray[i]-Centers[j])\n",
    "            if(distance<MinimumDistance):\n",
    "                MinimumDistance=distance\n",
    "                Class=j\n",
    "        Membership[i]=Class\n",
    "    return Membership;\n",
    "\n",
    "if __name__ == \"__main__\":\n",
    "    Centers=InitializeCenters();\n",
    "    GetMemberShip(Centers);"
   ]
  },
  {
   "cell_type": "code",
   "execution_count": null,
   "metadata": {},
   "outputs": [],
   "source": []
  },
  {
   "cell_type": "code",
   "execution_count": null,
   "metadata": {},
   "outputs": [],
   "source": []
  }
 ],
 "metadata": {
  "kernelspec": {
   "display_name": "Python 3",
   "language": "python",
   "name": "python3"
  },
  "language_info": {
   "codemirror_mode": {
    "name": "ipython",
    "version": 3
   },
   "file_extension": ".py",
   "mimetype": "text/x-python",
   "name": "python",
   "nbconvert_exporter": "python",
   "pygments_lexer": "ipython3",
   "version": "3.7.3"
  }
 },
 "nbformat": 4,
 "nbformat_minor": 2
}
