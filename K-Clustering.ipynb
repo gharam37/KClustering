{
 "cells": [
  {
   "cell_type": "code",
   "execution_count": 108,
   "metadata": {
    "scrolled": true
   },
   "outputs": [
    {
     "name": "stdout",
     "output_type": "stream",
     "text": [
      "Assigning Targets\n",
      "Importing Images\n",
      "Initializing Centers\n",
      "(784,)\n",
      "Getting Membership Vector\n",
      "[9. 7. 3. 9. 2. 2. 7. 6. 3. 3. 9. 2. 3. 8. 2. 0. 7. 0. 0. 3. 9. 2. 2. 0.\n",
      " 4. 0. 0. 0. 4. 8. 8. 2. 7. 9. 7. 3. 3. 2. 7. 7. 2. 2. 8. 3. 9. 2. 2. 8.\n",
      " 7. 0. 7. 0. 8. 9. 3. 7. 3. 8. 9. 0. 9. 9. 9. 9. 3. 9. 8. 7. 7. 9. 7. 9.\n",
      " 7. 7. 9. 3. 7. 7. 0. 2. 9. 9. 9. 9. 9. 8. 9. 9. 9. 1. 9. 3. 9. 9. 9. 6.\n",
      " 9. 9. 9. 3. 8. 9. 2. 4. 6. 3. 2. 0. 2. 0. 9. 0. 9. 0. 4. 9. 9. 7. 9. 9.\n",
      " 2. 9. 9. 9. 5. 5. 2. 7. 7. 3. 2. 1. 7. 9. 9. 8. 7. 7. 7. 7. 9. 0. 3. 7.\n",
      " 0. 2. 9. 3. 0. 8. 3. 9. 2. 9. 2. 2. 2. 5. 0. 2. 7. 9. 2. 2. 2. 0. 0. 2.\n",
      " 2. 0. 0. 0. 0. 5. 2. 2. 2. 8. 3. 5. 6. 7. 0. 2. 7. 2. 9. 5. 3. 7. 7. 7.\n",
      " 7. 0. 3. 7. 9. 9. 2. 2.]\n"
     ]
    }
   ],
   "source": [
    "import numpy as np\n",
    "import matplotlib.pyplot as plt\n",
    "ImagesArray=np.ones([200, 784])\n",
    "Centers=np.ones([10, 784])\n",
    "\n",
    "print(\"Assigning Targets\")\n",
    "\n",
    "\n",
    "\n",
    "\n",
    "\n",
    "print(\"Importing Images\")\n",
    "\n",
    "for i in range (0,200):\n",
    "    Image=plt.imread('Train/'+str(i+1)+'.jpg')\n",
    "    Image =Image.flatten()\n",
    "    super_threshold_indices = Image < 140\n",
    "    Image[super_threshold_indices] = 0\n",
    "    super_threshold_indices = Image >= 140\n",
    "    Image[super_threshold_indices] = 1\n",
    "    ImagesArray[i]=Image\n",
    "def InitializeCenters():\n",
    "    print(\"Initializing Centers\")\n",
    "    M1i=np.random.choice(np.arange(len(ImagesArray)))\n",
    "    print(ImagesArray[M1i].shape);\n",
    "    Centers[0]=ImagesArray[M1i];\n",
    "    NewImagesArray= np.copy(ImagesArray)\n",
    "    CurrentCenter=Centers[0]\n",
    "    MaximumDistance=0\n",
    "    MaximumDistanceLocation=0;\n",
    "    for i in range(1,10):\n",
    "        for j in range(0,len(NewImagesArray)):\n",
    "            if(np.linalg.norm(NewImagesArray[j]-CurrentCenter)>MaximumDistance):\n",
    "                MaximumDistance=np.linalg.norm(NewImagesArray[j]-CurrentCenter);\n",
    "                MaximumDistanceLocation=j;\n",
    "                Centers[i]=NewImagesArray[j];\n",
    "        NewImagesArray = np.delete(NewImagesArray, MaximumDistanceLocation, axis=0)\n",
    "        #print(len(NewImagesArray))\n",
    "        CurrentCenter=Centers[i]\n",
    "        MaximumDistance=0\n",
    "        MaximumDistanceLocation=0\n",
    "    return Centers;\n",
    "def GetMemberShip(Centers):\n",
    "    print(\"Getting Membership Vector\")\n",
    "    Membership=np.ones([200])    \n",
    "    for i in range (0,len(ImagesArray)):\n",
    "        MinimumDistance=np.linalg.norm(ImagesArray[i]-Centers[0])\n",
    "        Class=0\n",
    "        for j in range(1,len(Centers)):\n",
    "            distance=np.linalg.norm(ImagesArray[i]-Centers[j])\n",
    "            if(distance<MinimumDistance):\n",
    "                MinimumDistance=distance\n",
    "                Class=j\n",
    "        Membership[i]=Class\n",
    "    return Membership;\n",
    "\n",
    "if __name__ == \"__main__\":\n",
    "    Centers=InitializeCenters();\n",
    "    print(GetMemberShip(Centers));\n",
    "    "
   ]
  },
  {
   "cell_type": "code",
   "execution_count": null,
   "metadata": {},
   "outputs": [],
   "source": []
  },
  {
   "cell_type": "code",
   "execution_count": null,
   "metadata": {},
   "outputs": [],
   "source": []
  }
 ],
 "metadata": {
  "kernelspec": {
   "display_name": "Python 3",
   "language": "python",
   "name": "python3"
  },
  "language_info": {
   "codemirror_mode": {
    "name": "ipython",
    "version": 3
   },
   "file_extension": ".py",
   "mimetype": "text/x-python",
   "name": "python",
   "nbconvert_exporter": "python",
   "pygments_lexer": "ipython3",
   "version": "3.7.3"
  }
 },
 "nbformat": 4,
 "nbformat_minor": 2
}
